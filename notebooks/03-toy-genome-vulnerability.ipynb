{
 "cells": [
  {
   "cell_type": "markdown",
   "id": "50195f93",
   "metadata": {},
   "source": [
    "# DSBs $\\to$ Genomic Loci"
   ]
  },
  {
   "cell_type": "code",
   "execution_count": 1,
   "id": "481226bf",
   "metadata": {},
   "outputs": [
    {
     "name": "stderr",
     "output_type": "stream",
     "text": [
      "\u001b[32m\u001b[1m  Activating\u001b[22m\u001b[39m project at `~/Documents/Kaizen/code/space-behaviour`\n",
      "\u001b[32m\u001b[1m   Resolving\u001b[22m\u001b[39m package versions...\n",
      "\u001b[32m\u001b[1m  No Changes\u001b[22m\u001b[39m to `~/Documents/Kaizen/code/space-behaviour/Project.toml`\n",
      "\u001b[32m\u001b[1m  No Changes\u001b[22m\u001b[39m to `~/Documents/Kaizen/code/space-behaviour/Manifest.toml`\n"
     ]
    },
    {
     "name": "stdout",
     "output_type": "stream",
     "text": [
      "\u001b[32m\u001b[1mStatus\u001b[22m\u001b[39m `~/Documents/Kaizen/code/space-behaviour/Project.toml`\n",
      "  \u001b[90m[46ada45e] \u001b[39mAgents v6.2.10\n",
      "  \u001b[90m[336ed68f] \u001b[39mCSV v0.10.15\n",
      "\u001b[32m⌃\u001b[39m \u001b[90m[13f3f980] \u001b[39mCairoMakie v0.13.10\n",
      "  \u001b[90m[a93c6f00] \u001b[39mDataFrames v1.7.0\n",
      "  \u001b[90m[0c46a032] \u001b[39mDifferentialEquations v7.16.1\n",
      "  \u001b[90m[31c24e10] \u001b[39mDistributions v0.25.120\n",
      "  \u001b[90m[587475ba] \u001b[39mFlux v0.16.5\n",
      "  \u001b[90m[86223c79] \u001b[39mGraphs v1.13.0\n",
      "\u001b[33m⌅\u001b[39m \u001b[90m[a98d9a8b] \u001b[39mInterpolations v0.15.1\n",
      "\u001b[33m⌅\u001b[39m \u001b[90m[033835bb] \u001b[39mJLD2 v0.4.54\n",
      "\u001b[33m⌅\u001b[39m \u001b[90m[ee78f7c6] \u001b[39mMakie v0.22.10\n",
      "  \u001b[90m[c3e4b0f8] \u001b[39mPluto v0.20.13\n",
      "\u001b[32m⌃\u001b[39m \u001b[90m[7f904dfe] \u001b[39mPlutoUI v0.7.68\n",
      "  \u001b[90m[90137ffa] \u001b[39mStaticArrays v1.9.14\n",
      "\u001b[32m⌃\u001b[39m \u001b[90m[2913bbd2] \u001b[39mStatsBase v0.34.5\n",
      "\u001b[32m⌃\u001b[39m \u001b[90m[fce5fe82] \u001b[39mTuring v0.39.8\n",
      "  \u001b[90m[9a3f8284] \u001b[39mRandom v1.11.0\n",
      "\u001b[36m\u001b[1mInfo\u001b[22m\u001b[39m Packages marked with \u001b[32m⌃\u001b[39m and \u001b[33m⌅\u001b[39m have new versions available. Those with \u001b[32m⌃\u001b[39m may be upgradable, but those with \u001b[33m⌅\u001b[39m are restricted by compatibility constraints from upgrading. To see why use `status --outdated`\n"
     ]
    }
   ],
   "source": [
    "using Pkg\n",
    "Pkg.activate(\"..\")\n",
    "Pkg.status()"
   ]
  },
  {
   "cell_type": "markdown",
   "id": "0df18ed8",
   "metadata": {},
   "source": [
    "## GCR Simulation"
   ]
  },
  {
   "cell_type": "code",
   "execution_count": 2,
   "id": "626d1ab5",
   "metadata": {},
   "outputs": [
    {
     "name": "stdout",
     "output_type": "stream",
     "text": [
      "λ = 8.264562861287374 events/s\n",
      "First 5 events:\n",
      "(0.08045716449487317, :proton, 1.6586120459619966, [-0.7892707797841357, 0.40204891553931715, 0.46412100328750616])\n",
      "(0.1692884246196395, :proton, 1.6246861583937644, [0.19415822454320555, -0.5828893539915502, 0.7890136784907746])\n",
      "(0.4917952629540153, :proton, 1.7905287345888437, [0.03972011804885405, 0.6813553391984611, 0.730874280548943])\n",
      "(0.5292060138108665, :proton, 1.906590133840186, [0.6390268158138432, 0.7650704242802885, -0.07944793617457756])\n",
      "(0.6484388980478354, :proton, 1.6629954143968988, [0.008907550886827407, 0.2690242495616623, 0.9630922119324727])\n",
      "Selected 14808 events\n"
     ]
    }
   ],
   "source": [
    "# Import the physics from notebook 02\n",
    "include(\"../modules/GCRSimulator/GCRSimulator.jl\")\n",
    "using CSV, DataFrames, Interpolations, Distributions\n",
    "\n",
    "# Recreation of key data (copy the essential parts)\n",
    "PARTICLE_PARAMS = Dict(\n",
    "    :proton => (γ = 2.7, cutoff = 1.0e4, A = 1.0, weight = 0.87),\n",
    "    :helium => (γ = 2.58, cutoff = 1.0e4, A = 0.1, weight = 0.12),\n",
    "    :heavy => (γ = 2.6, cutoff = 1.0e4, A = 0.01, weight = 0.01),\n",
    ")\n",
    "\n",
    "# Generate eventlist (same as notebook 02)\n",
    "sim = GCRSimulator(PARTICLE_PARAMS; area=1.0)\n",
    "times, species, energies, directions = simulate_events(sim, round(Int, sim.λ * 3600 * 24))\n",
    "\n",
    "println(\"λ = \", sim.λ, \" events/s\")\n",
    "println(\"First 5 events:\")\n",
    "for i in 1:5\n",
    "    println((times[i], species[i], energies[i], directions[i]))\n",
    "end\n",
    "\n",
    "eventlist = [(time = times[i], particle = species[i], energy = energies[i], direction = directions[i]) for i in 1:length(times) if energies[i] > 10]\n",
    "println(\"Selected $(length(eventlist)) events\")"
   ]
  },
  {
   "cell_type": "markdown",
   "id": "dd2096cd",
   "metadata": {},
   "source": [
    "## LET LookUp"
   ]
  },
  {
   "cell_type": "code",
   "execution_count": 9,
   "id": "c08410bc",
   "metadata": {},
   "outputs": [
    {
     "data": {
      "text/plain": [
       "Dict{Symbol, Interpolations.Extrapolation{Float64, 1, Interpolations.GriddedInterpolation{Float64, 1, Vector{Float64}, Gridded{Linear{Throw{OnGrid}}}, Tuple{Vector{Float64}}}, Gridded{Linear{Throw{OnGrid}}}, Flat{Nothing}}} with 3 entries:\n",
       "  :proton => 131-element extrapolate(interpolate((::Vector{Float64},), ::Vector…\n",
       "  :helium => 120-element extrapolate(interpolate((::Vector{Float64},), ::Vector…\n",
       "  :heavy  => 72-element extrapolate(interpolate((::Vector{Float64},), ::Vector{…"
      ]
     },
     "metadata": {},
     "output_type": "display_data"
    }
   ],
   "source": [
    "include(\"../modules/Utilities/lookupLET.jl\")\n",
    "\n",
    "protonLET = loadLETfromNIST(\"protons-in-water.tsv\")\n",
    "alphaLET = loadLETfromNIST(\"alpha-in-water.tsv\")\n",
    "ironLET = loadLETfromSRIM(\"iron-in-water.tsv\")\n",
    "\n",
    "lookupLET = Dict(\n",
    "    :proton => protonLET,\n",
    "    :helium => alphaLET,\n",
    "    :heavy => ironLET\n",
    ")"
   ]
  },
  {
   "cell_type": "markdown",
   "id": "806edb8a",
   "metadata": {},
   "source": [
    "## PARTRAC DSB"
   ]
  },
  {
   "cell_type": "code",
   "execution_count": 14,
   "id": "64a8f769",
   "metadata": {},
   "outputs": [
    {
     "data": {
      "text/plain": [
       "partracDSByield (generic function with 1 method)"
      ]
     },
     "metadata": {},
     "output_type": "display_data"
    }
   ],
   "source": [
    "include(\"../modules/Utilities/partracDSByield.jl\")"
   ]
  },
  {
   "cell_type": "markdown",
   "id": "75b03962",
   "metadata": {},
   "source": [
    "## Modelling Nuclear Geometry"
   ]
  },
  {
   "cell_type": "code",
   "execution_count": 13,
   "id": "5097d6ac",
   "metadata": {},
   "outputs": [
    {
     "name": "stdout",
     "output_type": "stream",
     "text": [
      "Testing impact function:\n",
      "Nucleus radius: 5.0 μm\n",
      "  Impact parameter: 0.97 μm → Chord length: 9.81 μm\n",
      "  Impact parameter: 4.9 μm → Chord length: 2.01 μm\n",
      "  Impact parameter: 2.82 μm → Chord length: 8.25 μm\n",
      "  Impact parameter: 4.31 μm → Chord length: 5.07 μm\n",
      "  Impact parameter: 3.37 μm → Chord length: 7.4 μm\n",
      "  Impact parameter: 4.31 μm → Chord length: 5.07 μm\n",
      "  Impact parameter: 4.72 μm → Chord length: 3.33 μm\n",
      "  Impact parameter: 2.64 μm → Chord length: 8.49 μm\n",
      "  Impact parameter: 1.74 μm → Chord length: 9.38 μm\n",
      "  Impact parameter: 4.7 μm → Chord length: 3.41 μm\n",
      "\n",
      "Chord length statistics (1000 samples):\n",
      "  Mean: 6.57 μm\n",
      "  Max (diameter): 9.99 μm\n",
      "  Expected max: 10.0 μm\n"
     ]
    }
   ],
   "source": [
    "using Random, LinearAlgebra\n",
    "\n",
    "nucleus_radius = 5.0\n",
    "\n",
    "function impact(radius::Float64)\n",
    "    # Sample impact parameter for isotropic flux (hits only)\n",
    "    u = rand()\n",
    "    b = radius * sqrt(u)\n",
    "    \n",
    "    # Calculate chord length through sphere\n",
    "    chord = 2 * sqrt(radius^2 - b^2)\n",
    "    \n",
    "    return chord, b\n",
    "end\n",
    "\n",
    "# Test it - now we'll see all the results\n",
    "println(\"Testing impact function:\")\n",
    "println(\"Nucleus radius: $nucleus_radius μm\")\n",
    "for i in 1:10\n",
    "    chord, b = impact(nucleus_radius)\n",
    "    println(\"  Impact parameter: $(round(b, digits=2)) μm → Chord length: $(round(chord, digits=2)) μm\")\n",
    "end\n",
    "\n",
    "# Quick stats\n",
    "chords = [impact(nucleus_radius)[1] for _ in 1:1000]\n",
    "println(\"\\nChord length statistics (1000 samples):\")\n",
    "println(\"  Mean: $(round(mean(chords), digits=2)) μm\")\n",
    "println(\"  Max (diameter): $(round(maximum(chords), digits=2)) μm\")\n",
    "println(\"  Expected max: $(round(2*nucleus_radius, digits=2)) μm\")"
   ]
  },
  {
   "cell_type": "code",
   "execution_count": null,
   "id": "235cf69a",
   "metadata": {},
   "outputs": [],
   "source": [
    "function mapDSBs(events)\n",
    "\n",
    "    # Retrive Linear Energy Transfer for the event\n",
    "    LET = lookupLET[event.particle](event.energy)\n",
    "\n",
    "    # Calculate\n",
    "    chord, impact = impact(nuclear_radius)\n",
    "\n",
    "\n",
    "\n"
   ]
  }
 ],
 "metadata": {
  "kernelspec": {
   "display_name": "Julia 1.11.5",
   "language": "julia",
   "name": "julia-1.11"
  },
  "language_info": {
   "file_extension": ".jl",
   "mimetype": "application/julia",
   "name": "julia",
   "version": "1.11.5"
  }
 },
 "nbformat": 4,
 "nbformat_minor": 5
}
